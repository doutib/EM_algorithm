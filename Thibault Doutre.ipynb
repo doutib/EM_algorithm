{
 "cells": [
  {
   "cell_type": "markdown",
   "metadata": {},
   "source": [
    "# HMM"
   ]
  },
  {
   "cell_type": "markdown",
   "metadata": {},
   "source": [
    "## Algorithm"
   ]
  },
  {
   "cell_type": "code",
   "execution_count": 1,
   "metadata": {
    "collapsed": false
   },
   "outputs": [],
   "source": [
    "import numpy as np\n",
    "from scipy.special import gammaln\n",
    "\n",
    "# Global Parameters\n",
    "y=np.loadtxt(\"hw5-2.data\",delimiter=\", \",dtype= 'int')\n",
    "ytest=np.loadtxt(\"hw5-2.test\",delimiter=\", \",dtype= 'int')\n",
    "m=3\n",
    "K=2\n",
    "t=len(y)\n",
    "niter=10\n",
    "\n",
    "# Initialize parameters to optimize\n",
    "Pi=np.zeros([m,1],dtype=np.float128)+1/m\n",
    "a=np.zeros([m,m],dtype=np.float128)+1/m\n",
    "Lambda=np.array([[1, 5],[50,100],[200,300]],dtype=np.float128)+0.\n",
    "mix=np.zeros([m,K],dtype=np.float128)+1/K"
   ]
  },
  {
   "cell_type": "code",
   "execution_count": 2,
   "metadata": {
    "collapsed": false,
    "scrolled": true
   },
   "outputs": [],
   "source": [
    "def EM_HMM(Pi,a,Lambda,mix,m,K,t,y,ytest,niter):\n",
    "    Pi=Pi\n",
    "    a=a\n",
    "    Lambda=Lambda\n",
    "    mix=mix\n",
    "    l_train=np.zeros([niter],dtype=np.float128)\n",
    "    l_test=np.zeros([niter])\n",
    "\n",
    "    for i0 in range(niter):\n",
    "\n",
    "        ######## Probabilities\n",
    "\n",
    "        # Compute P(yt|qti=1,ptk=1)\n",
    "        def YgivenQP_f(y):\n",
    "            res=np.zeros([t,m,K],dtype=np.float128)\n",
    "            for i in range(m):\n",
    "                for k in range(K):\n",
    "                    res[:,i,k]= -Lambda[i,k]+y*np.log(Lambda[i,k])-\\\n",
    "                    gammaln(y+1)\n",
    "            return(np.exp(res))\n",
    "        YgivenQP=YgivenQP_f(y)\n",
    "        YgivenQP_test=YgivenQP_f(ytest)\n",
    "\n",
    "        # Compute P(yt|qti=1)\n",
    "        def YgivenQ_f(YgivenQP):\n",
    "            res=np.zeros([t,m],dtype=np.float128)\n",
    "            for i in range(m):\n",
    "                for k in range(K):\n",
    "                      res[:,i]=res[:,i]+YgivenQP[:,i,k]*mix[i,k]\n",
    "\n",
    "            return(res)\n",
    "        YgivenQ=YgivenQ_f(YgivenQP)\n",
    "        YgivenQ_test=YgivenQ_f(YgivenQP_test)\n",
    "\n",
    "        # Compute alpha=P(y1..yt-1,qti=1) \n",
    "        def alpha_f(YgivenQ):\n",
    "            res=np.zeros([t,m],dtype=np.float128)\n",
    "            res[0,:]=YgivenQ[0,:]*np.transpose(Pi)\n",
    "            for t1 in range(1,t):\n",
    "                s=np.zeros([1,m])\n",
    "                for j in range(m):\n",
    "                    s=s+res[t1-1,j]*YgivenQ[t1,:]*a[j,:]\n",
    "                res[t1,:]=s\n",
    "            return(res)\n",
    "        alpha=alpha_f(YgivenQ)\n",
    "        alpha_test=alpha_f(YgivenQ_test)\n",
    "\n",
    "        # Compute beta=P(yt+1..yT,qti=1) \n",
    "        def beta_f(YgivenQ):\n",
    "            res=np.ones([t,m],dtype=np.float128)\n",
    "            for t1 in range(t-2,-1,-1):\n",
    "                for i in range(m):\n",
    "                    s=0\n",
    "                    for j in range(m):\n",
    "                        s=s+res[t1+1,j]*a[i,j]*YgivenQ[t1+1,j]\n",
    "                    res[t1,i]=s\n",
    "            return(res)\n",
    "        beta=beta_f(YgivenQ)\n",
    "        beta_test=beta_f(YgivenQ_test)\n",
    "\n",
    "        # Compute p(y)\n",
    "        def py_f(alpha,beta):\n",
    "            return(np.sum(alpha*beta,axis=1))\n",
    "        py=py_f(alpha,beta)\n",
    "        py_test=py_f(alpha_test,beta_test)\n",
    "        \n",
    "        # Compute gamma=P(qti=1|y)\n",
    "        def gamma():\n",
    "            res=alpha*beta\n",
    "            for t1 in range(t):\n",
    "                res[t1,]=res[t1,]/py[t1]\n",
    "            return(res)\n",
    "        gamma=gamma()\n",
    "\n",
    "        # Compute dzeta\n",
    "        def dzeta():\n",
    "            res=np.zeros([t-1,m,m],dtype=np.float128)\n",
    "            for i in range(m):\n",
    "                for j in range(m):\n",
    "                    for t1 in range(t-1):\n",
    "                        res[t1,i,j]=alpha[t1,i]*YgivenQ[t1+1,j]*\\\n",
    "                        beta[t1+1,j]*a[i,j]/py[t1]\n",
    "            return(res)\n",
    "        dzeta=dzeta()\n",
    "\n",
    "\n",
    "        # Compute P(qti=1,ptj=1|y)\n",
    "        def QPgivenY():\n",
    "            res=np.zeros([t,m,K],dtype=np.float128)\n",
    "            for i in range(m):\n",
    "                for k in range(K):\n",
    "                    for t1 in range(t):\n",
    "                        res[t1,i,k]=YgivenQP[t1,i,k]*mix[i,k]*\\\n",
    "                        gamma[t1,i]/YgivenQ[t1,i]\n",
    "            return(res)\n",
    "        QPgivenY=QPgivenY()\n",
    "\n",
    "\n",
    "        ######## Expectation\n",
    "\n",
    "        # Compute gamma0\n",
    "        gamma0 = gamma[0,:]\n",
    "\n",
    "        # Compute Aij\n",
    "        def A():\n",
    "            res=np.zeros([m,m],dtype=np.float128)\n",
    "            for i in range(m):\n",
    "                for j in range(m):\n",
    "                    res[i,j]=np.sum(dzeta[:,i,j])\n",
    "            return(res)\n",
    "        A=A()\n",
    "\n",
    "        # Compute Bik\n",
    "        def B():\n",
    "            res=np.zeros([m,K],dtype=np.float128)\n",
    "            for i in range(m):\n",
    "                for k in range(K):\n",
    "                    res[i,k]=np.sum(QPgivenY[:,i,k]*y)\n",
    "            return(res)\n",
    "        B=B()\n",
    "\n",
    "\n",
    "        # Compute Cik\n",
    "        def C():\n",
    "            res=np.zeros([m,K],dtype=np.float128)\n",
    "            for i in range(m):\n",
    "                for k in range(K):\n",
    "                    res[i,k]=np.sum(QPgivenY[:,i,k])\n",
    "            return(res)\n",
    "        C=C()\n",
    "\n",
    "        ######## Maximization\n",
    "        # Update a\n",
    "        def a():\n",
    "            a=A\n",
    "            for i in range(m):\n",
    "                a[i,:]=a[i,:]/np.sum(a[i,:])\n",
    "            return(a)\n",
    "        a=a()\n",
    "\n",
    "        # Update lambda\n",
    "        Lambda=B/C\n",
    "\n",
    "        # Update mix\n",
    "        def mix():\n",
    "            mix=C\n",
    "            for i in range(m):\n",
    "                mix[i,:]=mix[i,:]/np.sum(mix[i,:])\n",
    "            return(mix)\n",
    "        mix=mix()\n",
    "\n",
    "        # Compute the expected likelihood\n",
    "        def likelihood_train():\n",
    "            res=np.sum(np.log(Pi)*gamma0)+np.sum(A*np.log(a))+\\\n",
    "            np.sum(B*(np.log(Lambda/np.exp(1))))-np.sum(gammaln(y+1))\n",
    "            return(res)\n",
    "\n",
    "        # Compute the train log-likelihood\n",
    "        l_train[i0]=np.log(py[t-1])\n",
    "        \n",
    "        # Compute the test log-likelihood\n",
    "        l_test[i0]=np.log(py_test[t-1])\n",
    "    return(A,B,C,Lambda,mix,a,l_train,l_test)\n",
    "    \n",
    "EM_HMM=EM_HMM(Pi,a,Lambda,mix,m,K,t,y,ytest,niter)"
   ]
  },
  {
   "cell_type": "markdown",
   "metadata": {},
   "source": [
    "##Results"
   ]
  },
  {
   "cell_type": "code",
   "execution_count": 3,
   "metadata": {
    "collapsed": false,
    "scrolled": true
   },
   "outputs": [
    {
     "data": {
      "text/plain": [
       "array([[ 1.0357935,  15.862358],\n",
       "       [ 40.502892,  106.05553],\n",
       "       [ 188.80634,  272.43183]], dtype=float128)"
      ]
     },
     "execution_count": 3,
     "metadata": {},
     "output_type": "execute_result"
    }
   ],
   "source": [
    "# Lambda\n",
    "EM_HMM[3]"
   ]
  },
  {
   "cell_type": "code",
   "execution_count": 4,
   "metadata": {
    "collapsed": false
   },
   "outputs": [
    {
     "data": {
      "text/plain": [
       "array([[ 0.84402282,  0.15597718],\n",
       "       [ 0.24993662,  0.75006338],\n",
       "       [ 0.45000642,  0.54999358]], dtype=float128)"
      ]
     },
     "execution_count": 4,
     "metadata": {},
     "output_type": "execute_result"
    }
   ],
   "source": [
    "# mix\n",
    "EM_HMM[4]"
   ]
  },
  {
   "cell_type": "code",
   "execution_count": 5,
   "metadata": {
    "collapsed": false
   },
   "outputs": [
    {
     "data": {
      "text/plain": [
       "array([[ 0.19245884,  0.73062408,  0.076917078],\n",
       "       [ 0.17383237,  0.08696938,  0.73919825],\n",
       "       [ 0.79999533,  0.15000475,  0.049999924]], dtype=float128)"
      ]
     },
     "execution_count": 5,
     "metadata": {},
     "output_type": "execute_result"
    }
   ],
   "source": [
    "# a\n",
    "EM_HMM[5]"
   ]
  },
  {
   "cell_type": "code",
   "execution_count": 6,
   "metadata": {
    "collapsed": false,
    "scrolled": true
   },
   "outputs": [
    {
     "data": {
      "image/png": "[encoded data removed]",
      "text/plain": [
       "<matplotlib.figure.Figure at 0x10645e0b8>"
      ]
     },
     "metadata": {},
     "output_type": "display_data"
    }
   ],
   "source": [
    "%matplotlib inline\n",
    "import matplotlib.pyplot as plt\n",
    "fig, ax = plt.subplots()\n",
    "ax.plot(range(10), EM_HMM[6], '-', label='Train')\n",
    "ax.plot(range(10), EM_HMM[7], '-', label='Test')\n",
    "plt.title('Log likelihood of HMM')\n",
    "ax.legend(loc='lower right', shadow=True)\n",
    "plt.show()"
   ]
  },
  {
   "cell_type": "markdown",
   "metadata": {},
   "source": [
    "# Mixture model"
   ]
  },
  {
   "cell_type": "markdown",
   "metadata": {},
   "source": [
    "## Algorithm"
   ]
  },
  {
   "cell_type": "code",
   "execution_count": 7,
   "metadata": {
    "collapsed": false
   },
   "outputs": [],
   "source": [
    "# Global parameters\n",
    "K=6\n",
    "p=np.zeros([K],dtype=np.float128)+1/K\n",
    "lambdas=np.array([1, 5,50,100,200,300],dtype=np.float128)+0.\n",
    "niter=10\n",
    "\n",
    "# Density\n",
    "def dpoisson(x,lmd):\n",
    "    logd= -lmd+x*np.log(lmd)-gammaln(x+1)\n",
    "    return(np.exp(logd))"
   ]
  },
  {
   "cell_type": "code",
   "execution_count": 8,
   "metadata": {
    "collapsed": false,
    "scrolled": true
   },
   "outputs": [],
   "source": [
    "def EM_Mixtuure(lambdas,p,K,t,y,ytest,niter):\n",
    "    l_train=np.zeros([niter],dtype=np.float128)\n",
    "    l_test=np.zeros([niter],dtype=np.float128)\n",
    "    \n",
    "    for i0 in range(niter):    \n",
    "        ###### Expectation\n",
    "\n",
    "        # Compute the joint probability of yt and kth component\n",
    "        def q(k,t1):\n",
    "            return(p[k]*dpoisson(y[t1],lambdas[k]))\n",
    "        def q_test(k,t1):\n",
    "            return(p[k]*dpoisson(ytest[t1],lambdas[k]))\n",
    "\n",
    "        # Compute the conditional probability of kth component given yt\n",
    "        def P(k,t1):\n",
    "            norm=0\n",
    "            for ktilde in range(K):\n",
    "                norm = norm+q(ktilde,t1)\n",
    "            return(q(k,t1)/norm)\n",
    "\n",
    "\n",
    "        ###### Maximization\n",
    "\n",
    "        #Z\n",
    "        def Z(k):\n",
    "            res=0\n",
    "            for t1 in range(t):\n",
    "                res=res+P(k,t1)\n",
    "            return(res)\n",
    "\n",
    "        # Update lambdas\n",
    "        def update_lambdas():\n",
    "            for k in range(K):\n",
    "                res=0\n",
    "                for t1 in range(t):\n",
    "                    res=res+P(k,t1)*y[t1]\n",
    "                lambdas[k]=res/Z(k)\n",
    "        update_lambdas()\n",
    "\n",
    "        # Update p\n",
    "        def update_k():\n",
    "            for k in range(K):\n",
    "                p[k]=Z(k)/t\n",
    "            return(p)\n",
    "        update_k()\n",
    "\n",
    "\n",
    "        ###### Log Likelihood\n",
    "\n",
    "        def loglikelihood(p,q):\n",
    "            res=0\n",
    "            for t1 in range(t):\n",
    "                norm=0\n",
    "                for ktilde in range(K):\n",
    "                    norm = norm+q(ktilde,t1)\n",
    "                res=res+np.log(norm)\n",
    "            return(res)\n",
    "        \n",
    "        l_train[i0]=loglikelihood(p,q)\n",
    "        l_test[i0]=loglikelihood(p,q_test)\n",
    "        \n",
    "    return(lambdas,p,l_train,l_test)\n",
    "\n",
    "EM_Mixtuure=EM_Mixtuure(lambdas,p,K,t,y,ytest,niter)"
   ]
  },
  {
   "cell_type": "markdown",
   "metadata": {},
   "source": [
    "## Results"
   ]
  },
  {
   "cell_type": "code",
   "execution_count": 9,
   "metadata": {
    "collapsed": false
   },
   "outputs": [
    {
     "data": {
      "text/plain": [
       "array([ 1.035924,  15.882874,  40.497836,  106.05555,  188.80653,\n",
       "        272.43183], dtype=float128)"
      ]
     },
     "execution_count": 9,
     "metadata": {},
     "output_type": "execute_result"
    }
   ],
   "source": [
    "# lambdas\n",
    "EM_Mixtuure[0]"
   ]
  },
  {
   "cell_type": "code",
   "execution_count": 10,
   "metadata": {
    "collapsed": false,
    "scrolled": true
   },
   "outputs": [
    {
     "data": {
      "text/plain": [
       "array([ 0.31352911,  0.057954703,  0.085659048,  0.25714275,  0.12857314,\n",
       "        0.15714125], dtype=float128)"
      ]
     },
     "execution_count": 10,
     "metadata": {},
     "output_type": "execute_result"
    }
   ],
   "source": [
    "# mixture components p\n",
    "EM_Mixtuure[1]"
   ]
  },
  {
   "cell_type": "code",
   "execution_count": 11,
   "metadata": {
    "collapsed": false
   },
   "outputs": [
    {
     "data": {
      "image/png": "[encoded data removed]",
      "text/plain": [
       "<matplotlib.figure.Figure at 0x108211da0>"
      ]
     },
     "metadata": {},
     "output_type": "display_data"
    }
   ],
   "source": [
    "%matplotlib inline\n",
    "import matplotlib.pyplot as plt\n",
    "fig, ax = plt.subplots()\n",
    "ax.plot(range(10), EM_Mixtuure[2], '-', label='Train')\n",
    "ax.plot(range(10), EM_Mixtuure[3], '-', label='Test')\n",
    "plt.title('Log likelihood')\n",
    "ax.legend(loc='lower right', shadow=True)\n",
    "plt.show()"
   ]
  },
  {
   "cell_type": "markdown",
   "metadata": {},
   "source": [
    "# Comparison between HMM and Mixture"
   ]
  },
  {
   "cell_type": "code",
   "execution_count": 12,
   "metadata": {
    "collapsed": false
   },
   "outputs": [
    {
     "data": {
      "image/png": "[encoded data removed]",
      "text/plain": [
       "<matplotlib.figure.Figure at 0x1085a9710>"
      ]
     },
     "metadata": {},
     "output_type": "display_data"
    }
   ],
   "source": [
    "%matplotlib inline\n",
    "import matplotlib.pyplot as plt\n",
    "fig, ax = plt.subplots()\n",
    "ax.plot(range(10), EM_Mixtuure[2], '-d', label='Mixture Train')\n",
    "ax.plot(range(10), EM_Mixtuure[3], '-d', label='Mixture Test')\n",
    "ax.plot(range(10), EM_HMM[6], '-o', label='HMM Train')\n",
    "ax.plot(range(10), EM_HMM[7], '-o', label='HMM Test')\n",
    "plt.title('Log likelihood')\n",
    "ax.legend(loc='lower right', shadow=True)\n",
    "plt.show()"
   ]
  },
  {
   "cell_type": "markdown",
   "metadata": {
    "collapsed": true
   },
   "source": [
    "# Trees"
   ]
  },
  {
   "cell_type": "markdown",
   "metadata": {
    "collapsed": true
   },
   "source": [
    "## Algoritm"
   ]
  },
  {
   "cell_type": "code",
   "execution_count": 13,
   "metadata": {
    "collapsed": true
   },
   "outputs": [],
   "source": [
    "import numpy as np\n",
    "\n",
    "# Global Parameters\n",
    "y=np.loadtxt(\"hw5-4.data\",delimiter=\", \")\n",
    "t=len(y)\n",
    "mu0=0\n",
    "mu1=2\n",
    "v0=1\n",
    "v1=1\n",
    "a=0.5 # alpha in the problem set\n",
    "alphaX1=np.array([0.5,0.5],dtype=np.float128)\n",
    "niter=10"
   ]
  },
  {
   "cell_type": "code",
   "execution_count": 14,
   "metadata": {
    "collapsed": false
   },
   "outputs": [],
   "source": [
    "def Tree_EM(mu0,mu1,v0,v1,a,alphaX1,y,niter):\n",
    "    l_train=np.zeros([niter],dtype=np.float128)\n",
    "    \n",
    "    for i0 in range(niter):\n",
    "        \n",
    "        ###### Expectation\n",
    "\n",
    "        # Compute P(Yt|X=i)\n",
    "        def YgivenX():\n",
    "            res=np.zeros([t,2],dtype=np.float128)\n",
    "            for t1 in range(t):\n",
    "                res[t1,0]=np.exp(-(y[t1]-mu0)**2/(2*v0))/np.sqrt(2*np.pi*v0)\n",
    "                res[t1,1]=np.exp(-(y[t1]-mu1)**2/(2*v1))/np.sqrt(2*np.pi*v1)\n",
    "            return(res)\n",
    "        YgivenX=YgivenX()\n",
    "\n",
    "        # Compute P(X2i|Xi) or P(X2i+1|Xi)\n",
    "        def SgivenX():\n",
    "            return(np.array([[1-a,a],[a,1-a]],dtype=np.float128))\n",
    "        SgivenX=SgivenX() \n",
    "        \n",
    "        # Compute beta(xi)\n",
    "        def beta_f():\n",
    "            res=np.zeros([t,2],dtype=np.float128)\n",
    "            res2=np.zeros([t,2],dtype=np.float128)\n",
    "            maxchild=np.zeros([np.power(2,7)-1,2,2],dtype=np.float128)\n",
    "            # Fill leaves with normal distributions\n",
    "            for t1 in range(np.power(2,7),np.power(2,8)):\n",
    "                res[t1-1,:]=YgivenX[t1-1,:]\n",
    "                res2[t1-1,:]=YgivenX[t1-1,:]\n",
    "            # i begins at one like real nodes indices\n",
    "            for i in range(np.power(2,7)-1,0,-1):\n",
    "                for j1 in range(2):\n",
    "                    for j2 in range(2):\n",
    "                        # Maxchild\n",
    "                        up0=res2[2*i-1,j1]*res2[(2*i+1)-1,j2]*YgivenX[i-1,0]*\\\n",
    "                        SgivenX[j1,0]*SgivenX[j2,0]\n",
    "                        up1=res2[2*i-1,j1]*res2[(2*i+1)-1,j2]*YgivenX[i-1,1]*\\\n",
    "                        SgivenX[j1,1]*SgivenX[j2,1]\n",
    "                        if res2[i-1,0] < up0:\n",
    "                            res2[i-1,0]=up0\n",
    "                            maxchild[i-1,0,:]=[j1,j2]\n",
    "                        if res2[i-1,1]<up1:\n",
    "                            res2[i-1,1]=up1\n",
    "                            maxchild[i-1,1,:]=[j1,j2]\n",
    "                        # Beta\n",
    "                        res[i-1,0]=res[i-1,0]+res[2*i-1,j1]*res[(2*i+1)-1,j2]*\\\n",
    "                        YgivenX[i-1,0]*SgivenX[j1,0]*SgivenX[j2,0]         \n",
    "                        res[i-1,1]=res[i-1,1]+res[2*i-1,j1]*res[(2*i+1)-1,j2]*\\\n",
    "                        YgivenX[i-1,1]*SgivenX[j1,1]*SgivenX[j2,1]\n",
    "            return(res,maxchild)\n",
    "        \n",
    "        beta_f=beta_f()\n",
    "        beta=beta_f[0]\n",
    "        maxchild=beta_f[1]\n",
    "\n",
    "        # Compute P(yD2i+1|xi)\n",
    "        def DgivenX():\n",
    "            res=np.zeros([np.power(2,7)-1,2],dtype=np.float128)\n",
    "            for i in range(1,np.power(2,7)):\n",
    "                for j in range(2):\n",
    "                    res[i-1,0]=res[i-1,0]+beta[(2*i+1)-1,j]*SgivenX[j,0]\n",
    "                    res[i-1,1]=res[i-1,1]+beta[(2*i+1)-1,j]*SgivenX[j,1]\n",
    "            return(res)\n",
    "        DgivenX=DgivenX()\n",
    "\n",
    "        # Compute P(yD2i|xi)\n",
    "        def GgivenX():\n",
    "            res=np.zeros([np.power(2,7)-1,2],dtype=np.float128)\n",
    "            for i in range(1,np.power(2,7)):\n",
    "                for j in range(2):\n",
    "                    res[i-1,0]=res[i-1,0]+beta[2*i-1,j]*SgivenX[j,0]\n",
    "                    res[i-1,1]=res[i-1,1]+beta[2*i-1,j]*SgivenX[j,1]\n",
    "            return(res)\n",
    "        GgivenX=GgivenX()\n",
    "\n",
    "        # Compute alpha(xi)\n",
    "        def alpha():\n",
    "            res=np.zeros([t,2],dtype=np.float128)\n",
    "            # Initialze alpha(x1)\n",
    "            res[0,0]=alphaX1[0]\n",
    "            res[0,1]=alphaX1[1]\n",
    "            # i begins at one like real nodes indices\n",
    "            for i in range(1,np.power(2,7)):\n",
    "                for j in range(2):\n",
    "                    res[2*i-1,0]=res[2*i-1,0]+res[i-1,j]*\\\n",
    "                    YgivenX[i-1,j]*DgivenX[i-1,j]*SgivenX[0,j]\n",
    "                    res[2*i-1,1]=res[2*i-1,1]+res[i-1,j]*\\\n",
    "                    YgivenX[i-1,j]*DgivenX[i-1,j]*SgivenX[1,j]\n",
    "                    res[(2*i+1)-1,0]=res[(2*i+1)-1,0]+res[i-1,j]*\\\n",
    "                    YgivenX[i-1,j]*GgivenX[i-1,j]*SgivenX[0,j]\n",
    "                    res[(2*i+1)-1,1]=res[(2*i+1)-1,1]+res[i-1,j]*\\\n",
    "                    YgivenX[i-1,j]*GgivenX[i-1,j]*SgivenX[1,j]\n",
    "            return(res)\n",
    "        alpha=alpha()\n",
    "\n",
    "        # Compute p(y)\n",
    "        def py():\n",
    "            return(np.sum(alpha*beta,axis=1))\n",
    "        py=py()\n",
    "\n",
    "        # Compute p(xi|y)\n",
    "        def XgivenY():\n",
    "            res=alpha*beta\n",
    "            for i in range(t):\n",
    "                res[i,:]=res[i,:]/py[i]\n",
    "            return(res)\n",
    "        XgivenY=XgivenY()\n",
    "\n",
    "        # Compute p(xi,x2i|y) or p(xi,x2i+1|y)\n",
    "        def XSgivenY():\n",
    "            res=np.zeros([np.power(2,7)-1,2,2],dtype=np.float128)\n",
    "            for t1 in range(1,np.power(2,7)):\n",
    "                for j in range(2):\n",
    "                    for xi in range(2):\n",
    "                        for xj in range(2):\n",
    "                            res[t1-1,xi,xj]=res[t1-1,xi,xj]+alpha[t1-1,xi]*\\\n",
    "                            beta[2*t1-1,xj]*beta[(2*t1+1)-1,j]*\\\n",
    "                            YgivenX[t1-1,xi]*SgivenX[xj,xi]*SgivenX[j,xi]\n",
    "            return(res/py[0])\n",
    "        XSgivenY=XSgivenY()\n",
    "\n",
    "        ###### Maximization\n",
    "\n",
    "        # Update a\n",
    "        def newa():\n",
    "            res_diff=0\n",
    "            for i in range(1,np.power(2,7)):\n",
    "                res_diff=res_diff+2*(XSgivenY[i-1,0,1]+XSgivenY[i-1,1,0])\n",
    "            return(res_diff/(t-1))\n",
    "        a=newa()\n",
    "        \n",
    "        # Update sigma0^2\n",
    "        def newv0():\n",
    "            num=0\n",
    "            den=0\n",
    "            for i in range(t):\n",
    "                den=den+XgivenY[i,0]\n",
    "                num=num+XgivenY[i,0]*np.power(y[i]-mu0,2)\n",
    "            return(num/den)\n",
    "        v0=newv0()\n",
    "\n",
    "        # Update sigma1^2\n",
    "        def newv1():\n",
    "            num=0\n",
    "            den=0\n",
    "            for i in range(t):\n",
    "                den=den+XgivenY[i,1]\n",
    "                num=num+XgivenY[i,1]*np.power(y[i]-mu1,2)\n",
    "            return(num/den)\n",
    "        v1=newv1()\n",
    "        \n",
    "        # Update mu0\n",
    "        def newmu0():\n",
    "            num=0\n",
    "            den=0\n",
    "            for i in range(t):\n",
    "                num=num+y[i]*XgivenY[i,0]\n",
    "                den=den+XgivenY[i,0]\n",
    "            return(num/den)\n",
    "        mu0=newmu0()\n",
    "\n",
    "        # Update mu1\n",
    "        def newmu1():\n",
    "            num=0\n",
    "            den=0\n",
    "            for i in range(t):\n",
    "                num=num+y[i]*XgivenY[i,1]\n",
    "                den=den+XgivenY[i,1]\n",
    "            return(num/den)\n",
    "        mu1=newmu1()\n",
    "        \n",
    "\n",
    "        ###### Log-likelihood\n",
    "        l_train[i0]=np.log(py[0])\n",
    "\n",
    "    return(mu0,mu1,v0,v1,a,l_train,maxchild)\n",
    "\n",
    "Tree_EM=Tree_EM(mu0,mu1,v0,v1,a,alphaX1,y,niter)"
   ]
  },
  {
   "cell_type": "code",
   "execution_count": 15,
   "metadata": {
    "collapsed": false
   },
   "outputs": [
    {
     "data": {
      "image/png": "[encoded data removed]",
      "text/plain": [
       "<matplotlib.figure.Figure at 0x1087b67f0>"
      ]
     },
     "metadata": {},
     "output_type": "display_data"
    }
   ],
   "source": [
    "%matplotlib inline\n",
    "import matplotlib.pyplot as plt\n",
    "plt.plot(Tree_EM[5])\n",
    "plt.title('Log likelihood')\n",
    "plt.show()"
   ]
  },
  {
   "cell_type": "code",
   "execution_count": 16,
   "metadata": {
    "collapsed": false
   },
   "outputs": [
    {
     "data": {
      "text/plain": [
       "-0.99501356955284888094"
      ]
     },
     "execution_count": 16,
     "metadata": {},
     "output_type": "execute_result"
    }
   ],
   "source": [
    "#mu0\n",
    "Tree_EM[0]"
   ]
  },
  {
   "cell_type": "code",
   "execution_count": 17,
   "metadata": {
    "collapsed": false
   },
   "outputs": [
    {
     "data": {
      "text/plain": [
       "2.1592947568198361604"
      ]
     },
     "execution_count": 17,
     "metadata": {},
     "output_type": "execute_result"
    }
   ],
   "source": [
    "#mu1\n",
    "Tree_EM[1]"
   ]
  },
  {
   "cell_type": "code",
   "execution_count": 18,
   "metadata": {
    "collapsed": false
   },
   "outputs": [
    {
     "data": {
      "text/plain": [
       "0.62216359423016470031"
      ]
     },
     "execution_count": 18,
     "metadata": {},
     "output_type": "execute_result"
    }
   ],
   "source": [
    "#v0\n",
    "Tree_EM[2]"
   ]
  },
  {
   "cell_type": "code",
   "execution_count": 19,
   "metadata": {
    "collapsed": false
   },
   "outputs": [
    {
     "data": {
      "text/plain": [
       "1.5632186874985169451"
      ]
     },
     "execution_count": 19,
     "metadata": {},
     "output_type": "execute_result"
    }
   ],
   "source": [
    "#v1\n",
    "Tree_EM[3]"
   ]
  },
  {
   "cell_type": "code",
   "execution_count": 20,
   "metadata": {
    "collapsed": false
   },
   "outputs": [
    {
     "data": {
      "text/plain": [
       "0.13863891645807134905"
      ]
     },
     "execution_count": 20,
     "metadata": {},
     "output_type": "execute_result"
    }
   ],
   "source": [
    "#a\n",
    "Tree_EM[4]"
   ]
  },
  {
   "cell_type": "code",
   "execution_count": 21,
   "metadata": {
    "collapsed": false
   },
   "outputs": [
    {
     "data": {
      "image/png": "[encoded data removed]",
      "text/plain": [
       "<matplotlib.figure.Figure at 0x1087d7518>"
      ]
     },
     "metadata": {},
     "output_type": "display_data"
    }
   ],
   "source": [
    "###### Most likely hidden states\n",
    "\n",
    "%matplotlib inline\n",
    "# Maxchild\n",
    "mchild=Tree_EM[6]\n",
    "# init plot\n",
    "xaxis=np.zeros([t],dtype=np.int32)\n",
    "yaxis=np.zeros([t],dtype=np.int32)\n",
    "for i in range(1,t):\n",
    "    xaxis[i-1]=(i-3*np.power(2,np.int(np.log2(i))-1)+.5)\n",
    "    yaxis[i-1]=-np.int(np.log2(i))\n",
    "    \n",
    "#labels\n",
    "def labels():\n",
    "    res=np.ones([t],dtype=np.int32)\n",
    "    for i in range(1,np.power(2,7)):\n",
    "        res[2*i-1]=mchild[i-1,res[i-1],0]\n",
    "        res[(2*i+1)-1]=mchild[i-1,res[i-1],1]\n",
    "    return(res)\n",
    "labels=(labels()==1)\n",
    "\n",
    "# plot\n",
    "plt.plot(xaxis,yaxis,'+')\n",
    "plt.plot(xaxis[labels],yaxis[labels],'bo')\n",
    "plt.title('Hidden states')\n",
    "plt.show()"
   ]
  }
 ],
 "metadata": {
  "kernelspec": {
   "display_name": "Python 3",
   "language": "python",
   "name": "python3"
  },
  "language_info": {
   "codemirror_mode": {
    "name": "ipython",
    "version": 3
   },
   "file_extension": ".py",
   "mimetype": "text/x-python",
   "name": "python",
   "nbconvert_exporter": "python",
   "pygments_lexer": "ipython3",
   "version": "3.4.3"
  }
 },
 "nbformat": 4,
 "nbformat_minor": 0
}
